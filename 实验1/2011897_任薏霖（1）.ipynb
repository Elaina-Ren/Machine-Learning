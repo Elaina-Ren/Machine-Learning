{
 "cells": [
  {
   "cell_type": "markdown",
   "id": "54435eee",
   "metadata": {
    "pycharm": {
     "name": "#%% md\n"
    }
   },
   "source": [
    "# 第一次实验——KNN实现手写数字识别"
   ]
  },
  {
   "cell_type": "markdown",
   "id": "b4c832d7",
   "metadata": {
    "pycharm": {
     "name": "#%% md\n"
    }
   },
   "source": [
    "#### 姓名：任薏霖\n",
    "#### 学号：2011897\n",
    "#### 专业：物联网工程"
   ]
  },
  {
   "cell_type": "markdown",
   "id": "c627a87d",
   "metadata": {
    "pycharm": {
     "name": "#%% md\n"
    }
   },
   "source": [
    "### 导入所需要的包"
   ]
  },
  {
   "cell_type": "code",
   "execution_count": 1,
   "id": "c8ef611c",
   "metadata": {
    "pycharm": {
     "name": "#%%\n"
    }
   },
   "outputs": [],
   "source": [
    "import numpy as np\n",
    "import operator\n",
    "from collections import Counter\n",
    "from sklearn.model_selection import train_test_split,cross_val_score\n",
    "from sklearn.model_selection import LeaveOneOut\n",
    "from sklearn.neighbors import KNeighborsClassifier\n",
    "from tqdm import tqdm\n",
    "import matplotlib.pyplot as plt\n",
    "import time\n",
    "import pandas as pd"
   ]
  },
  {
   "cell_type": "markdown",
   "id": "52d8b474",
   "metadata": {
    "pycharm": {
     "name": "#%% md\n"
    }
   },
   "source": [
    "### 导入数据集semesion"
   ]
  },
  {
   "cell_type": "code",
   "execution_count": 2,
   "id": "8b33dee4",
   "metadata": {
    "pycharm": {
     "name": "#%%\n"
    }
   },
   "outputs": [],
   "source": [
    "# 导入数据\n",
    "def Img2Mat(fileName):\n",
    "    data = open(fileName)\n",
    "    s = data.readlines()\n",
    "    l = len(s)\n",
    "    data.close()\n",
    "    returnMat = np.zeros((l,256))\n",
    "    returnClassVector = np.zeros((l,1))\n",
    "    for i in range(l):\n",
    "        s1 = s[i].split()\n",
    "        for j in range(256):\n",
    "            returnMat[i][j] = np.float(s1[j])\n",
    "        clCount = 0\n",
    "        for j in range(256,266):\n",
    "            if s1[j] != '1':\n",
    "                clCount += 1\n",
    "            else:\n",
    "                break\n",
    "        returnClassVector[i] = clCount\n",
    "    return returnMat,returnClassVector"
   ]
  },
  {
   "cell_type": "code",
   "execution_count": 3,
   "id": "0b839a46",
   "metadata": {
    "pycharm": {
     "name": "#%%\n"
    }
   },
   "outputs": [
    {
     "name": "stderr",
     "output_type": "stream",
     "text": [
      "C:\\Users\\Lenovo\\AppData\\Local\\Temp\\ipykernel_11128\\1655242787.py:12: DeprecationWarning: `np.float` is a deprecated alias for the builtin `float`. To silence this warning, use `float` by itself. Doing this will not modify any behavior and is safe. If you specifically wanted the numpy scalar type, use `np.float64` here.\n",
      "Deprecated in NumPy 1.20; for more details and guidance: https://numpy.org/devdocs/release/1.20.0-notes.html#deprecations\n",
      "  returnMat[i][j] = np.float(s1[j])\n"
     ]
    },
    {
     "data": {
      "text/plain": [
       "((1593, 256), (1593, 1))"
      ]
     },
     "execution_count": 3,
     "metadata": {},
     "output_type": "execute_result"
    }
   ],
   "source": [
    "X,y = Img2Mat('semeion.data')\n",
    "np.shape(X), np.shape(y)"
   ]
  },
  {
   "cell_type": "markdown",
   "id": "cda9b981",
   "metadata": {
    "pycharm": {
     "name": "#%% md\n"
    }
   },
   "source": [
    "### 基本要求\n",
    "####  编程实现kNN算法：采用留一法给出不同k值（1，3，5）情况下，kNN算法对手写数字的识别精度\n"
   ]
  },
  {
   "cell_type": "code",
   "execution_count": 4,
   "id": "50686462",
   "metadata": {
    "pycharm": {
     "name": "#%%\n"
    }
   },
   "outputs": [],
   "source": [
    "from sklearn.model_selection import LeaveOneOut\n",
    "from sklearn import model_selection\n",
    "from sklearn.model_selection import KFold\n",
    "from sklearn.linear_model import LogisticRegression as lrs"
   ]
  },
  {
   "cell_type": "code",
   "execution_count": 5,
   "id": "6b36ec9a",
   "metadata": {
    "pycharm": {
     "name": "#%%\n"
    }
   },
   "outputs": [],
   "source": [
    "def MyKnnClassifier(data_X, data_y, neighbors):\n",
    "    # 生成数据集和测试集\n",
    "    #X_train, X_test, y_train, y_test = train_test_split(data_X, data_y, test_size=0.2)\n",
    "    avg_acc = 0\n",
    "    loo = LeaveOneOut()\n",
    "    for train, test in loo.split(X,y):\n",
    "        X_train, X_test, y_train, y_test = X[train], X[test],y [train], y[test]\n",
    "        trainShape = X_train.shape[0]   # 获得训练集的大小\n",
    "        testShape = X_test.shape[0]     # 获得测试集的大小\n",
    "        testRes = []  # 存放测试结果\n",
    "        acc = 0   # 计算准确率\n",
    "\n",
    "        for i in range(testShape):  # 针对测试集中每一个样本进行预测\n",
    "            # 差异矩阵 = 该样本与训练集中所有样本之差构成的矩阵\n",
    "            testDiffMat = np.tile(X_test[i],(trainShape , 1)) - X_train\n",
    "            sqTestDiffMat = testDiffMat ** 2    # 将差异矩阵平方\n",
    "            # 方差距离为方差矩阵的整行求和，是一个一位列向量\n",
    "            sqTestDiffDis = sqTestDiffMat.sum(axis=1)\n",
    "            testDiffDis = sqTestDiffDis ** 0.5  # 开方生成标准差距离\n",
    "            sortIndex = np.argsort(testDiffDis)   # 将标准差距离按照下标排序\n",
    "            labelCount = []\n",
    "            for j in range(neighbors):  # 考察k近邻属于哪些类\n",
    "                labelCount.append(y_train[sortIndex[j]][0])\n",
    "            classifyRes = Counter(labelCount)    # 把k近邻中最多的那个标签作为分类结果\n",
    "            classifyRes = classifyRes.most_common(2)[0][0]\n",
    "            testRes.append(classifyRes)\n",
    "            if classifyRes == y_test[i]:  # 分类正确则将accRate+1\n",
    "                acc += 1\n",
    "                \n",
    "        avg_acc += acc\n",
    "    accRate = avg_acc / 1593\n",
    "    #print('k={0}时，测试个数为{1}  正确个数为：{2}  准确率为：{3}'.format(neighbors, X_test.shape[0], avg_acc, avg_acc))\n",
    "    print('k={0}时，准确率为：{1}'.format(neighbors, accRate))\n",
    "    return accRate"
   ]
  },
  {
   "cell_type": "markdown",
   "id": "0337224c",
   "metadata": {
    "pycharm": {
     "name": "#%% md\n"
    }
   },
   "source": [
    "#### 实验结果："
   ]
  },
  {
   "cell_type": "code",
   "execution_count": 6,
   "id": "94198394",
   "metadata": {
    "pycharm": {
     "name": "#%%\n"
    }
   },
   "outputs": [
    {
     "name": "stdout",
     "output_type": "stream",
     "text": [
      "k=1时，准确率为：0.9158819836785939\n",
      "k=3时，准确率为：0.9190207156308852\n",
      "k=5时，准确率为：0.9152542372881356\n"
     ]
    },
    {
     "data": {
      "text/plain": [
       "0.9152542372881356"
      ]
     },
     "execution_count": 6,
     "metadata": {},
     "output_type": "execute_result"
    }
   ],
   "source": [
    "MyKnnClassifier(X, y, 1)\n",
    "MyKnnClassifier(X, y, 3)\n",
    "MyKnnClassifier(X, y, 5)"
   ]
  },
  {
   "cell_type": "markdown",
   "id": "20305d81",
   "metadata": {
    "pycharm": {
     "name": "#%% md\n"
    }
   },
   "source": [
    "### 中级要求\n",
    "### 与weka机器学习包中的kNN分类结果进行对比"
   ]
  },
  {
   "cell_type": "code",
   "execution_count": 7,
   "id": "ef3318ae",
   "metadata": {
    "pycharm": {
     "name": "#%%\n"
    }
   },
   "outputs": [
    {
     "data": {
      "text/html": [
       "<img src=\"pic1.png\"/>"
      ],
      "text/plain": [
       "<IPython.core.display.Image object>"
      ]
     },
     "execution_count": 7,
     "metadata": {},
     "output_type": "execute_result"
    }
   ],
   "source": [
    "#通过weka软件进行knn分类\n",
    "#导入数据\n",
    "from IPython.display import Image\n",
    "img1 = 'pic1.png'\n",
    "Image(url=img1)"
   ]
  },
  {
   "cell_type": "code",
   "execution_count": 8,
   "id": "7a0452d9",
   "metadata": {
    "pycharm": {
     "name": "#%%\n"
    }
   },
   "outputs": [
    {
     "data": {
      "text/html": [
       "<img src=\"pic2.png\"/>"
      ],
      "text/plain": [
       "<IPython.core.display.Image object>"
      ]
     },
     "execution_count": 8,
     "metadata": {},
     "output_type": "execute_result"
    }
   ],
   "source": [
    "#以knn = 1为例，展示weka对手写数字识别的准确率\n",
    "img2 = 'pic2.png'\n",
    "Image(url=img2)"
   ]
  },
  {
   "cell_type": "markdown",
   "id": "8111caf2",
   "metadata": {
    "pycharm": {
     "name": "#%% md\n"
    }
   },
   "source": [
    "####  weka手写数字识别准确率csv文件 "
   ]
  },
  {
   "cell_type": "code",
   "execution_count": 9,
   "id": "49cd6d7a",
   "metadata": {
    "pycharm": {
     "name": "#%%\n"
    }
   },
   "outputs": [
    {
     "data": {
      "text/html": [
       "<div>\n",
       "<style scoped>\n",
       "    .dataframe tbody tr th:only-of-type {\n",
       "        vertical-align: middle;\n",
       "    }\n",
       "\n",
       "    .dataframe tbody tr th {\n",
       "        vertical-align: top;\n",
       "    }\n",
       "\n",
       "    .dataframe thead th {\n",
       "        text-align: right;\n",
       "    }\n",
       "</style>\n",
       "<table border=\"1\" class=\"dataframe\">\n",
       "  <thead>\n",
       "    <tr style=\"text-align: right;\">\n",
       "      <th></th>\n",
       "      <th>0</th>\n",
       "      <th>1</th>\n",
       "    </tr>\n",
       "  </thead>\n",
       "  <tbody>\n",
       "    <tr>\n",
       "      <th>0</th>\n",
       "      <td>knn</td>\n",
       "      <td>accurate</td>\n",
       "    </tr>\n",
       "    <tr>\n",
       "      <th>1</th>\n",
       "      <td>1</td>\n",
       "      <td>0.9165100</td>\n",
       "    </tr>\n",
       "    <tr>\n",
       "      <th>2</th>\n",
       "      <td>2</td>\n",
       "      <td>0.8851220</td>\n",
       "    </tr>\n",
       "    <tr>\n",
       "      <th>3</th>\n",
       "      <td>3</td>\n",
       "      <td>0.9020720</td>\n",
       "    </tr>\n",
       "    <tr>\n",
       "      <th>4</th>\n",
       "      <td>4</td>\n",
       "      <td>0.9077210</td>\n",
       "    </tr>\n",
       "  </tbody>\n",
       "</table>\n",
       "</div>"
      ],
      "text/plain": [
       "     0           1\n",
       "0  knn    accurate\n",
       "1    1  0.9165100 \n",
       "2    2  0.8851220 \n",
       "3    3  0.9020720 \n",
       "4    4  0.9077210 "
      ]
     },
     "execution_count": 9,
     "metadata": {},
     "output_type": "execute_result"
    }
   ],
   "source": [
    "#将weka对手写数字识别的准确率转化为csv文件\n",
    "#读取csv文件\n",
    "\n",
    "data = pd.read_csv(\"wekadata.csv\", header=None)\n",
    "\n",
    "data.head()"
   ]
  },
  {
   "cell_type": "markdown",
   "id": "22e994b2",
   "metadata": {
    "pycharm": {
     "name": "#%% md\n"
    }
   },
   "source": [
    "#### weka实验结果："
   ]
  },
  {
   "cell_type": "code",
   "execution_count": 10,
   "id": "fdb07dfe",
   "metadata": {
    "pycharm": {
     "name": "#%%\n"
    }
   },
   "outputs": [
    {
     "name": "stdout",
     "output_type": "stream",
     "text": [
      "k=1.0时，weka训练手写体识别的准确率为：0.91651\n",
      "k=2.0时，weka训练手写体识别的准确率为：0.885122\n",
      "k=3.0时，weka训练手写体识别的准确率为：0.902072\n",
      "k=4.0时，weka训练手写体识别的准确率为：0.907721\n",
      "k=5.0时，weka训练手写体识别的准确率为：0.907094\n",
      "k=6.0时，weka训练手写体识别的准确率为：0.907094\n",
      "k=7.0时，weka训练手写体识别的准确率为：0.912116\n",
      "k=8.0时，weka训练手写体识别的准确率为：0.908977\n",
      "k=9.0时，weka训练手写体识别的准确率为：0.908977\n",
      "k=10.0时，weka训练手写体识别的准确率为：0.905838\n",
      "k=11.0时，weka训练手写体识别的准确率为：0.905838\n",
      "k=12.0时，weka训练手写体识别的准确率为：0.90521\n",
      "k=13.0时，weka训练手写体识别的准确率为：0.904583\n",
      "k=14.0时，weka训练手写体识别的准确率为：0.901444\n",
      "k=15.0时，weka训练手写体识别的准确率为：0.896422\n",
      "k=16.0时，weka训练手写体识别的准确率为：0.896422\n",
      "k=17.0时，weka训练手写体识别的准确率为：0.894539\n",
      "k=18.0时，weka训练手写体识别的准确率为：0.893911\n",
      "k=19.0时，weka训练手写体识别的准确率为：0.893911\n",
      "k=20.0时，weka训练手写体识别的准确率为：0.895794\n",
      "k=21.0时，weka训练手写体识别的准确率为：0.895166\n",
      "k=22.0时，weka训练手写体识别的准确率为：0.897677\n",
      "k=23.0时，weka训练手写体识别的准确率为：0.893911\n",
      "k=24.0时，weka训练手写体识别的准确率为：0.893283\n",
      "k=25.0时，weka训练手写体识别的准确率为：0.8914\n"
     ]
    }
   ],
   "source": [
    "#将csv文件转化为数组\n",
    "#并进行格式化输出\n",
    "\n",
    "data_tests = np.array(data[1:]).astype(float)\n",
    "\n",
    "for i in range(25):\n",
    "        print('k={0}时，weka训练手写体识别的准确率为：{1}'.format(data_tests[i][0], data_tests[i][1]))"
   ]
  },
  {
   "cell_type": "markdown",
   "id": "8b2c521c",
   "metadata": {
    "pycharm": {
     "name": "#%% md\n"
    }
   },
   "source": [
    "### 高级要求"
   ]
  },
  {
   "cell_type": "markdown",
   "id": "4babfc3b",
   "metadata": {
    "pycharm": {
     "name": "#%% md\n"
    }
   },
   "source": [
    "### 将实验过程结果等图示展出"
   ]
  },
  {
   "cell_type": "code",
   "execution_count": 11,
   "id": "66b6751a",
   "metadata": {
    "pycharm": {
     "name": "#%%\n"
    }
   },
   "outputs": [
    {
     "name": "stdout",
     "output_type": "stream",
     "text": [
      "k=1时，准确率为：0.9158819836785939\n",
      "k=2时，准确率为：0.9158819836785939\n",
      "k=3时，准确率为：0.9190207156308852\n",
      "k=4时，准确率为：0.9196484620213434\n",
      "k=5时，准确率为：0.9152542372881356\n",
      "k=6时，准确率为：0.9190207156308852\n",
      "k=7时，准确率为：0.9221594475831764\n",
      "k=8时，准确率为：0.9240426867545511\n",
      "k=9时，准确率为：0.9234149403640929\n",
      "k=10时，准确率为：0.9196484620213434\n",
      "k=11时，准确率为：0.9139987445072191\n",
      "k=12时，准确率为：0.9165097300690521\n",
      "k=13时，准确率为：0.9171374764595104\n",
      "k=14时，准确率为：0.9121155053358443\n",
      "k=15时，准确率为：0.9077212806026366\n",
      "k=16时，准确率为：0.9077212806026366\n",
      "k=17时，准确率为：0.9052102950408035\n",
      "k=18时，准确率为：0.9026993094789705\n",
      "k=19时，准确率为：0.901443816698054\n",
      "k=20时，准确率为：0.9008160703075957\n",
      "k=21时，准确率为：0.901443816698054\n",
      "k=22时，准确率为：0.903954802259887\n",
      "k=23时，准确率为：0.9008160703075957\n",
      "k=24时，准确率为：0.8957940991839297\n"
     ]
    }
   ],
   "source": [
    "scores1 = []\n",
    "scores2 = []\n",
    "\n",
    "for k in range(1,25):\n",
    "    score1 = MyKnnClassifier(X, y, k)\n",
    "    scores1.append(score1)\n",
    "    \n",
    "# for k in range(1,25):\n",
    "#     score2 = KnnClassifier(X, y, k, 1)\n",
    "#     scores2.append(score2)\n",
    "\n",
    "pf = pd.read_csv(\"all_data.csv\", usecols=['scores2'])\n",
    "col = pf[\"scores2\"]\n",
    "data = np.array(col)\n",
    "#将weka的数据进行导入\n",
    "for k in range(1, 25):\n",
    "    scores2.append(data[k-1])"
   ]
  },
  {
   "cell_type": "code",
   "execution_count": 15,
   "id": "b7f4aa4d",
   "metadata": {
    "pycharm": {
     "name": "#%%\n"
    }
   },
   "outputs": [
    {
     "data": {
      "image/png": "[encoded data removed]",
      "text/plain": [
       "<Figure size 720x432 with 1 Axes>"
      ]
     },
     "metadata": {
      "needs_background": "light"
     },
     "output_type": "display_data"
    }
   ],
   "source": [
    "fig = plt.figure(figsize=(10,6))\n",
    "\n",
    "plt.xlabel('k value:',fontsize=18)\n",
    "plt.ylabel('accuracy',fontsize=18)\n",
    "\n",
    "x_major_locator = plt.MultipleLocator(1)\n",
    "ax = plt.gca()\n",
    "ax.xaxis.set_major_locator(x_major_locator)\n",
    "\n",
    "plt.xlim(0, 25)\n",
    "plt.ylim(0.75, 1)\n",
    "\n",
    "plt.plot(range(1,25), scores1, 'r', label='s1', marker = \"o\", markeredgecolor = 'black', markerfacecolor = '#ff9999')\n",
    "plt.plot(range(1,25), scores2, 'b', label='s2', marker = \"o\", markeredgecolor = 'black', markerfacecolor = 'steelblue')\n",
    "\n",
    "plt.legend()\n",
    "\n",
    "plt.grid()\n",
    "\n",
    "plt.show()"
   ]
  }
 ],
 "metadata": {
  "kernelspec": {
   "display_name": "Python 3 (ipykernel)",
   "language": "python",
   "name": "python3"
  },
  "language_info": {
   "codemirror_mode": {
    "name": "ipython",
    "version": 3
   },
   "file_extension": ".py",
   "mimetype": "text/x-python",
   "name": "python",
   "nbconvert_exporter": "python",
   "pygments_lexer": "ipython3",
   "version": "3.8.13"
  }
 },
 "nbformat": 4,
 "nbformat_minor": 5
}
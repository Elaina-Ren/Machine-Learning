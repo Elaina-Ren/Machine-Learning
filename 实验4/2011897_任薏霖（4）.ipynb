{
 "cells": [
  {
   "cell_type": "markdown",
   "id": "505a5098",
   "metadata": {},
   "source": [
    "# 实验四"
   ]
  },
  {
   "cell_type": "markdown",
   "id": "dca945cb",
   "metadata": {},
   "source": [
    "### 姓名：任薏霖\n",
    "### 学号：2011897\n",
    "### 专业：物联网工程"
   ]
  },
  {
   "cell_type": "code",
   "execution_count": 1,
   "id": "4bd6d8b1",
   "metadata": {},
   "outputs": [],
   "source": [
    "import math\n",
    "import numpy as np  \n",
    "import pandas as pd\n",
    "import matplotlib.pyplot as plt"
   ]
  },
  {
   "cell_type": "code",
   "execution_count": 2,
   "id": "fb366bbc",
   "metadata": {},
   "outputs": [],
   "source": [
    "f = open('wine.data','r')\n",
    "types = [[],[],[]]                      #按类分的所有数据\n",
    "test_data = [[],[],[]]\n",
    "train_data = [[],[],[]]\n",
    "data_num = 0                            #数据总数\n",
    "test_len = []                           #测试集里每一类的个数\n",
    "                      #每一类的标准差\n",
    "myline = '1'\n",
    "while myline:\n",
    "    myline = f.readline().split(',')\n",
    "    if len(myline) != 14:\n",
    "        break\n",
    "    for t in range(len(myline)):\n",
    "        if t == 0:http://localhost:8889/notebooks/Machine%20Learning/%E5%AE%9E%E9%AA%8C4/%E5%AE%9E%E9%AA%8C4.ipynb\n",
    "            myline[t] = int(myline[t])\n",
    "        else:\n",
    "            myline[t] = float(myline[t])\n",
    "    temp = myline.pop(0)\n",
    "    types[temp - 1].append(myline)\n",
    "        \n",
    "test_len = [round(len(types[i]) / 10) for i in range(3)]\n",
    "data_num = sum([len(types[i]) for i in range(3)])"
   ]
  },
  {
   "cell_type": "code",
   "execution_count": 3,
   "id": "0869dc6d",
   "metadata": {},
   "outputs": [],
   "source": [
    "# 训练集和测试集的划分\n",
    "#分层抽样\n",
    "def train_test_split(index):\n",
    "    train_sample1 = []\n",
    "    train_sample2 = []\n",
    "    train_sample3 = []\n",
    "    test_sample   = []\n",
    "    test_label    = []\n",
    "    fold          = 5\n",
    "\n",
    "    for i in range(len(types[0])):\n",
    "        if i % fold != index:\n",
    "            train_sample1.append(types[0][i])\n",
    "        else:\n",
    "            test_sample.append(types[0][i])\n",
    "            test_label.append(1)\n",
    "    for i in range(len(types[1])):\n",
    "        if i % fold != index:\n",
    "            train_sample2.append(types[1][i])\n",
    "        else:\n",
    "            test_sample.append(types[1][i])\n",
    "            test_label.append(2)\n",
    "    for i in range(len(types[2])):\n",
    "        if i % fold != index:\n",
    "            train_sample3.append(types[2][i])\n",
    "        else:\n",
    "            test_sample.append(types[2][i])\n",
    "            test_label.append(3)\n",
    "\n",
    "    train_sample1 = np.array(train_sample1)\n",
    "    train_sample2 = np.array(train_sample2)\n",
    "    train_sample3 = np.array(train_sample3)\n",
    "    \n",
    "    return train_sample1, train_sample2, train_sample3, test_sample, test_label"
   ]
  },
  {
   "cell_type": "markdown",
   "id": "9335491a",
   "metadata": {},
   "source": [
    "### 初级要求 "
   ]
  },
  {
   "cell_type": "code",
   "execution_count": 4,
   "id": "d89b601a",
   "metadata": {},
   "outputs": [],
   "source": [
    "def cal_wine(sample):\n",
    "    '''\n",
    "    mean = 均值\n",
    "    std = 标准差\n",
    "    var = 方差\n",
    "    '''\n",
    "    wine_mean = np.mean(sample, axis = 0)\n",
    "    wine_std = np.std(sample, axis = 0)\n",
    "    wine_var = np.var(sample, axis = 0)\n",
    "    return wine_mean, wine_var"
   ]
  },
  {
   "cell_type": "code",
   "execution_count": 5,
   "id": "618868e3",
   "metadata": {},
   "outputs": [],
   "source": [
    "def Gaussion_Function(test_data, train_data, index):\n",
    "    train_sample1, train_sample2, train_sample3, test_sample, test_label = train_test_split(index)\n",
    "    total = len(train_sample1) + len(train_sample2) + len(train_sample3)\n",
    "    likelihood = 1\n",
    "    mean, var = cal_wine(train_data)\n",
    "    prob = (1 / np.sqrt(2 * np.pi * var)) * np.exp(-((test_data - mean) ** 2) / (2 * var))\n",
    "    #print(prob)\n",
    "    for i in range(13):\n",
    "        likelihood = prob[i] * likelihood\n",
    "    #先验概率\n",
    "    prior = len(train_data) / total\n",
    "    return prior * likelihood"
   ]
  },
  {
   "cell_type": "code",
   "execution_count": 6,
   "id": "560e3720",
   "metadata": {},
   "outputs": [],
   "source": [
    "#利用贝叶斯分类器进行分类\n",
    "def Bayes_classificate(index):\n",
    "    train_sample1, train_sample2, train_sample3, test_sample, test_label = train_test_split(index)\n",
    "    total     = len(train_sample1) + len(train_sample2) + len(train_sample3)\n",
    "    pre_label = []\n",
    "    error_num = 0\n",
    "    for each in test_sample:\n",
    "        prob1 = Gaussion_Function(each, train_sample1, index)\n",
    "        prob2 = Gaussion_Function(each, train_sample2, index)\n",
    "        prob3 = Gaussion_Function(each, train_sample3, index)\n",
    "        \n",
    "        if max([prob1, prob2, prob3]) == prob1:\n",
    "            pre_label.append(1)\n",
    "        elif max([prob1, prob2, prob3]) == prob2:\n",
    "            pre_label.append(2)\n",
    "        else:\n",
    "            pre_label.append(3)\n",
    "            \n",
    "    for i in range(len(pre_label)):\n",
    "        if(pre_label[i] != test_label[i]):\n",
    "            error_num += 1\n",
    "            \n",
    "    error_rate = error_num / len(pre_label)\n",
    "    return round(error_rate, 5), np.array(pre_label)"
   ]
  },
  {
   "cell_type": "code",
   "execution_count": 7,
   "id": "909b6d4d",
   "metadata": {},
   "outputs": [],
   "source": [
    "error_rate, pre_label = Bayes_classificate(1)"
   ]
  },
  {
   "cell_type": "code",
   "execution_count": 8,
   "id": "10fed60f",
   "metadata": {},
   "outputs": [
    {
     "name": "stdout",
     "output_type": "stream",
     "text": [
      "index为0时:\t  正确率为:  0.97297  \t错误率为： 0.02703\n",
      "index为1时:\t  正确率为:  0.94444  \t错误率为： 0.05556\n",
      "index为2时:\t  正确率为:  0.94444  \t错误率为： 0.05556\n",
      "index为3时:\t  正确率为:  0.97143  \t错误率为： 0.02857\n",
      "index为4时:\t  正确率为:  0.97059  \t错误率为： 0.02941\n"
     ]
    }
   ],
   "source": [
    "#针对全部数据集\n",
    "for i in range(0, 5):\n",
    "    error_rate, pre_label = Bayes_classificate(i)\n",
    "    print(\"index为{}时:\\t  正确率为:  {}  \\t错误率为： {}\".format(i, 1 - error_rate, error_rate))\n",
    "    #print(i, 1 - Bayes_classificate(i), Bayes_classificate(i))"
   ]
  },
  {
   "cell_type": "markdown",
   "id": "956d54a6",
   "metadata": {},
   "source": [
    "### 中级要求"
   ]
  },
  {
   "cell_type": "code",
   "execution_count": 9,
   "id": "295eda91",
   "metadata": {},
   "outputs": [],
   "source": [
    "index = 0\n",
    "#分割训练集和测试集\n",
    "train_sample1, train_sample2, train_sample3, test_sample, test_label = train_test_split(index)\n",
    "#获取准确率与各组标签值\n",
    "accurate, pre_label = Bayes_classificate(index)"
   ]
  },
  {
   "cell_type": "code",
   "execution_count": 10,
   "id": "b9eaa4f9",
   "metadata": {},
   "outputs": [],
   "source": [
    "pre_score1 = []\n",
    "pre_score2 = []\n",
    "pre_score3 = []\n",
    "for each in test_sample:\n",
    "        prob1 = Gaussion_Function(each, train_sample1, index)\n",
    "        prob2 = Gaussion_Function(each, train_sample2, index)\n",
    "        prob3 = Gaussion_Function(each, train_sample3, index)\n",
    "        pre_score1.append(prob1)\n",
    "        pre_score2.append(prob2)\n",
    "        pre_score3.append(prob3)"
   ]
  },
  {
   "cell_type": "code",
   "execution_count": 11,
   "id": "ca1e714a",
   "metadata": {},
   "outputs": [],
   "source": [
    "#求混淆矩阵\n",
    "column = np.zeros((3, 3))\n",
    "for i in range(len(test_label)):\n",
    "        column[int(test_label[i]) - 1, pre_label[i] - 1] += 1\n",
    "        \n",
    "TP_1 = column[0, 0]\n",
    "FN_1 = column[0, 1] + column[0, 2]\n",
    "FP_1 = column[1, 0] + column[2, 0]\n",
    "TN_1 = column[1, 1] + column[1, 2] + column[2, 1] + column[2, 2]\n",
    "\n",
    "TP_2 = column[1, 1]\n",
    "FN_2 = column[1, 0] + column[1, 2]\n",
    "FP_2 = column[0, 1] + column[2, 1]\n",
    "TN_2 = column[0, 0] + column[0, 2] + column[2, 0] + column[2, 2]\n",
    "\n",
    "TP_3 = column[2, 2]\n",
    "FN_3 = column[2, 0] + column[2, 1]\n",
    "FP_3 = column[0, 2] + column[1, 2]\n",
    "TN_3 = column[0, 0] + column[0, 1] + column[1, 0] + column[1, 1]"
   ]
  },
  {
   "cell_type": "code",
   "execution_count": 12,
   "id": "9bcf5aff",
   "metadata": {},
   "outputs": [
    {
     "data": {
      "text/plain": [
       "(11.0, 0.0, 1.0, 25.0)"
      ]
     },
     "execution_count": 12,
     "metadata": {},
     "output_type": "execute_result"
    }
   ],
   "source": [
    "TP_1, FP_1, FN_1, TN_1"
   ]
  },
  {
   "cell_type": "code",
   "execution_count": 42,
   "id": "f2f34ad5",
   "metadata": {},
   "outputs": [],
   "source": [
    "def draw_confusion(TP, FP, FN, TN):\n",
    "    confusion = np.array(([TP, FP], [FN, TN]))\n",
    "    '''\n",
    "    precision = 精度\n",
    "    recall = 召回率\n",
    "    accuracy = 准确率\n",
    "    '''\n",
    "    precision = TP / (TP + FP)\n",
    "    recall = TP / (TP + FN)\n",
    "    F_measure = 2 / (1 / precision + 1 / recall)\n",
    "    \n",
    "    plt.matshow(confusion, cmap=plt.cm.Reds)\n",
    "    #plt.style.use('seaborn')\n",
    "    indices = range(len(confusion))\n",
    "    plt.xticks(indices, ['0', '1'])\n",
    "    plt.yticks(indices, ['0', '1'])\n",
    "    plt.colorbar()\n",
    "    plt.xlabel('True label')\n",
    "    plt.ylabel('Predicted label')\n",
    "    plt.title('Confusion')\n",
    "    # plt.rcParams两行是用于解决标签不能显示汉字的问题\n",
    "    plt.rcParams['font.sans-serif'] = ['SimHei']\n",
    "    plt.rcParams['axes.unicode_minus'] = False\n",
    "    # 显示数据\n",
    "    for first_index in range(len(confusion)):  # 第几行\n",
    "        for second_index in range(len(confusion[first_index])):  # 第几列\n",
    "            plt.text(first_index, second_index, confusion[first_index][second_index])\n",
    "    # 在matlab里面可以对矩阵直接imagesc(confusion)\n",
    "    # 显示\n",
    "    plt.show()\n",
    "    \n",
    "    \n",
    "    print(\"精度为:{}  召回率为:{}  F值为:{}\".format(precision, recall, F_measure))"
   ]
  },
  {
   "cell_type": "code",
   "execution_count": 43,
   "id": "15183f8a",
   "metadata": {},
   "outputs": [
    {
     "data": {
      "image/png": "[encoded data removed]",
      "text/plain": [
       "<Figure size 440x440 with 2 Axes>"
      ]
     },
     "metadata": {},
     "output_type": "display_data"
    },
    {
     "name": "stdout",
     "output_type": "stream",
     "text": [
      "精度为:1.0  召回率为:0.9166666666666666  F值为:0.9565217391304348\n"
     ]
    },
    {
     "data": {
      "image/png": "[encoded data removed]",
      "text/plain": [
       "<Figure size 440x440 with 2 Axes>"
      ]
     },
     "metadata": {},
     "output_type": "display_data"
    },
    {
     "name": "stdout",
     "output_type": "stream",
     "text": [
      "精度为:0.9375  召回率为:1.0  F值为:0.9677419354838711\n"
     ]
    },
    {
     "data": {
      "image/png": "[encoded data removed]",
      "text/plain": [
       "<Figure size 440x440 with 2 Axes>"
      ]
     },
     "metadata": {},
     "output_type": "display_data"
    },
    {
     "name": "stdout",
     "output_type": "stream",
     "text": [
      "精度为:1.0  召回率为:1.0  F值为:1.0\n"
     ]
    }
   ],
   "source": [
    "draw_confusion(TP_1, FP_1, FN_1, TN_1)\n",
    "draw_confusion(TP_2, FP_2, FN_2, TN_2)\n",
    "draw_confusion(TP_3, FP_3, FN_3, TN_3)"
   ]
  },
  {
   "cell_type": "markdown",
   "id": "fd6937cf",
   "metadata": {},
   "source": [
    "### 高级要求"
   ]
  },
  {
   "cell_type": "code",
   "execution_count": 15,
   "id": "bc8457c9",
   "metadata": {},
   "outputs": [],
   "source": [
    "#绘制ROC曲线计算AUC值\n",
    "def RocAuc(pre_score, testlabel):\n",
    "    fpr = []\n",
    "    tpr = []\n",
    "    Auc = 0\n",
    "     \n",
    "    for i in np.argsort(pre_score)[::-1]:\n",
    "        threshold = pre_score[i]\n",
    "        if threshold == np.max(pre_score):\n",
    "            fpr.append(0)\n",
    "            tpr.append(0)\n",
    "            continue\n",
    "        elif threshold == np.min(pre_score):\n",
    "            fpr.append(1)\n",
    "            tpr.append(1)\n",
    "            continue\n",
    "        TP, FP, FN, TN = 0, 0, 0, 0\n",
    "        for j in np.argsort(pre_score)[::-1]:\n",
    "            if pre_score[j] >= threshold:\n",
    "                if test_label[j] == testlabel:\n",
    "                    TP += 1\n",
    "                else:\n",
    "                    FP += 1\n",
    "            else:\n",
    "                if test_label[j] == testlabel:\n",
    "                    FN += 1\n",
    "                else:\n",
    "                    TN += 1\n",
    "        fpr.append(FP / (FP + TN))\n",
    "        tpr.append(TP / (TP + FN))\n",
    "    \n",
    "    for i in range(1, len(fpr)):\n",
    "        Auc += 0.5 * (fpr[i] - fpr[i - 1]) * (tpr[i] + tpr[i - 1])\n",
    "        \n",
    "    plt.style.use('seaborn-ticks')   \n",
    "    plt.title('ROC curve')\n",
    "    plt.plot(fpr, tpr, label = 'ROC', color = 'darkred')\n",
    "    plt.legend()\n",
    "    plt.xlabel('False positive rate')\n",
    "    plt.ylabel('True positive rate')\n",
    "    plt.rcParams['font.sans-serif'] = ['SimHei'] # 设置字体，不然中文无法显示\n",
    "    #plt.rcParams['image.cmap'] = 'gray' # 设置 颜色 style\n",
    "    #plt.grid()\n",
    "    print(\"Auc为:   {}  \".format(Auc))\n",
    "    plt.show()"
   ]
  },
  {
   "cell_type": "code",
   "execution_count": 16,
   "id": "e920adfa",
   "metadata": {},
   "outputs": [
    {
     "name": "stdout",
     "output_type": "stream",
     "text": [
      "Auc为:   0.9866666666666667  \n"
     ]
    },
    {
     "data": {
      "image/png": "[encoded data removed]",
      "text/plain": [
       "<Figure size 640x480 with 1 Axes>"
      ]
     },
     "metadata": {},
     "output_type": "display_data"
    },
    {
     "name": "stdout",
     "output_type": "stream",
     "text": [
      "Auc为:   0.9454545454545454  \n"
     ]
    },
    {
     "data": {
      "image/png": "[encoded data removed]",
      "text/plain": [
       "<Figure size 640x480 with 1 Axes>"
      ]
     },
     "metadata": {},
     "output_type": "display_data"
    },
    {
     "name": "stdout",
     "output_type": "stream",
     "text": [
      "Auc为:   1.0  \n"
     ]
    },
    {
     "data": {
      "image/png": "[encoded data removed]",
      "text/plain": [
       "<Figure size 640x480 with 1 Axes>"
      ]
     },
     "metadata": {},
     "output_type": "display_data"
    }
   ],
   "source": [
    "#可视化结果\n",
    "RocAuc(pre_score1,1)\n",
    "RocAuc(pre_score2,2)\n",
    "RocAuc(pre_score3,3)"
   ]
  }
 ],
 "metadata": {
  "kernelspec": {
   "display_name": "Python 3 (ipykernel)",
   "language": "python",
   "name": "python3"
  },
  "language_info": {
   "codemirror_mode": {
    "name": "ipython",
    "version": 3
   },
   "file_extension": ".py",
   "mimetype": "text/x-python",
   "name": "python",
   "nbconvert_exporter": "python",
   "pygments_lexer": "ipython3",
   "version": "3.7.13"
  }
 },
 "nbformat": 4,
 "nbformat_minor": 5
}
